{
 "cells": [
  {
   "cell_type": "markdown",
   "metadata": {},
   "source": [
    "### <p style=\"text-align:center\">Bhgavad Gita Text Analysis.</p>\n",
    "#### Outcome: Proper understanding of different sanskrit words that are often used by Krishna.\n",
    "#### Purpose: To create a wordcloud to achieve the outcome.\n",
    "#### Approach: Scrap the BG shlokas from <a href=\"www.asitis.com\"> asitis.com</a> and save the shlokas into a text file. Last step is to create a word cloud using the textfile."
   ]
  },
  {
   "cell_type": "code",
   "execution_count": null,
   "metadata": {
    "collapsed": true
   },
   "outputs": [],
   "source": [
    "#Import required project libraries\n",
    "#Libraries used: requests, BeautifulSoup from bs4, pandas and datetime.\n",
    "#Third party libraries used: wordcloud by A Mueller.\n",
    "import requests\n",
    "from bs4 import BeautifulSoup\n",
    "import pandas as pd\n",
    "from datetime import datetime"
   ]
  },
  {
   "cell_type": "code",
   "execution_count": null,
   "metadata": {
    "collapsed": true
   },
   "outputs": [],
   "source": [
    "#Util functions\n",
    "\n",
    "# def clean_verse(shloka):\n",
    "#     shloka = shloka.replace(\"<span class=\\\"Italic\\\">\",\"\")\n",
    "#     shloka = shloka.replace(\"<br/>\",\"\\n\")\n",
    "#     shloka = shloka.replace(\"<span>\",\"\")\n",
    "#     shloka = shloka.replace(\"</span>\",\"\")\n",
    "#     shloka = shloka.replace(\"uvaca\",\"uvaca \")\n",
    "#     shloka = shloka.replace(\"ksetre\",\"ksetre \")\n",
    "#     shloka = shloka.replace(\"-\",\" \")\n",
    "#     return shloka"
   ]
  },
  {
   "cell_type": "code",
   "execution_count": null,
   "metadata": {
    "scrolled": false
   },
   "outputs": [],
   "source": [
    "verse_map = [46,72,43,42,29,47,30,28,34,42,55,20,35,27,20,24,28,78]\n",
    "base_url = \"https://asitis.com/\"\n",
    "verses_missed = []\n",
    "file = open(\"bg1to18.txt\",\"w\") \n",
    "a = datetime.now()\n",
    "for j in range(1,19):\n",
    "    for i in range(1,verse_map[j-1]+1):\n",
    "        try:\n",
    "            r=requests.get(base_url+str(j)+\"/\"+str(i)+\".html\")\n",
    "            c=r.content\n",
    "            c\n",
    "            soup=BeautifulSoup(c,\"html.parser\")\n",
    "            # print(soup.prettify())\n",
    "\n",
    "            all=soup.find_all(\"span\",{\"class\":\"Italic\"})\n",
    "            \n",
    "            shloka=str(all[0])\n",
    "            shloka = shloka.replace(\"<span class=\\\"Italic\\\">\",\"\")\n",
    "            shloka = shloka.replace(\"<br/>\",\"\\n\")\n",
    "            shloka = shloka.replace(\"<span>\",\"\")\n",
    "            shloka = shloka.replace(\"</span>\",\"\")\n",
    "            shloka = shloka.replace(\"uvaca\",\"uvaca \")\n",
    "            shloka = shloka.replace(\"-\",\" \")\n",
    "            file.write(shloka+\"\\n\")\n",
    "            print(shloka)\n",
    "        except:\n",
    "            verses_missed.append(str(j)+\"-\"+str(i))\n",
    "b = datetime.now()\n",
    "print(\"Time taken:\", b-a)\n",
    "file.close()\n",
    "print(\"Verses missed:\", end=\" \")\n",
    "print(verses_missed)"
   ]
  },
  {
   "cell_type": "code",
   "execution_count": null,
   "metadata": {},
   "outputs": [],
   "source": [
    "import numpy as np\n",
    "from PIL import Image\n",
    "from os import path\n",
    "import matplotlib.pyplot as plt\n",
    "import random\n",
    "\n",
    "from wordcloud import WordCloud, STOPWORDS\n",
    "\n",
    "def color_func(word, font_size, position, orientation, random_state=None,\n",
    "                    **kwargs):\n",
    "    return \"hsl(0, 0%%, %d%%)\" % random.randint(60, 100)\n",
    "\n",
    "d = path.dirname('__file__')\n",
    "\n",
    "# read the mask image\n",
    "# taken from\n",
    "mask = np.array(Image.open(path.join(d, \"../imgs/bg_03.png\")))\n",
    "\n",
    "\n",
    "#BG Shlokas 1 to 18\n",
    "text = open(\"bg1to18.txt\").read()\n",
    "\n",
    "# adding BG script specific stopwords\n",
    "stopwords = set(STOPWORDS)\n",
    "stopwords.add(\"na\")\n",
    "stopwords.add(\"uvaca\")\n",
    "stopwords.add(\"sa\")\n",
    "stopwords.add(\"tu\")\n",
    "stopwords.add(\"eva\")\n",
    "stopwords.add(\"ca\")\n",
    "stopwords.add(\"mam\")\n",
    "stopwords.add(\"te\")\n",
    "stopwords.add(\"api\")\n",
    "\n",
    "\n",
    "\n",
    "wc = WordCloud(background_color=\"white\",max_words=1000, mask=mask, stopwords=stopwords, margin=10,\n",
    "               random_state=1).generate(text)\n",
    "# store default colored image\n",
    "default_colors = wc.to_array()\n",
    "plt.title(\"Custom colors\")\n",
    "plt.imshow(wc.recolor(color_func=grey_color_func, random_state=3),\n",
    "           interpolation=\"bilinear\")\n",
    "wc.to_file(\"bg_bw_wc.png\")\n",
    "plt.axis(\"off\")\n",
    "plt.figure()\n",
    "plt.title(\"Bhagavad Gita Wordcloud\")\n",
    "plt.imshow(default_colors, interpolation=\"bilinear\")\n",
    "plt.axis(\"off\")\n",
    "plt.show()\n",
    "wc.to_file(\"bg_wc_color.png\")"
   ]
  },
  {
   "cell_type": "markdown",
   "metadata": {},
   "source": [
    "### <p style=\"text-align:center\">Bhagavad Gita Word Cloud</p>\n",
    "\n",
    "##### <p style=\"text-align:center\">With Karma and Aham</p>\n",
    "<img src=\"../imgs/with_karma_aham.png\" height=\"2500\" width=\"2500\" />\n",
    "\n",
    "##### <p style=\"text-align:center\">With Sarva and Partha</p>\n",
    "<img src=\"../imgs/with_sarva_partha.png\" height=\"1000\" width=\"1000\" />"
   ]
  }
 ],
 "metadata": {
  "kernelspec": {
   "display_name": "Python [conda root]",
   "language": "python",
   "name": "conda-root-py"
  },
  "language_info": {
   "codemirror_mode": {
    "name": "ipython",
    "version": 3
   },
   "file_extension": ".py",
   "mimetype": "text/x-python",
   "name": "python",
   "nbconvert_exporter": "python",
   "pygments_lexer": "ipython3",
   "version": "3.6.3"
  }
 },
 "nbformat": 4,
 "nbformat_minor": 2
}
