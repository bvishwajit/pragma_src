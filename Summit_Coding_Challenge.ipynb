{
 "cells": [
  {
   "cell_type": "code",
   "execution_count": null,
   "metadata": {
    "scrolled": true
   },
   "outputs": [],
   "source": [
    "import pandas as pd\n",
    "from pandas.io.json import json_normalize\n",
    "df=pd.read_json('customersdata.json', lines=True)\n",
    "df.head(3)"
   ]
  },
  {
   "cell_type": "code",
   "execution_count": null,
   "metadata": {
    "scrolled": true
   },
   "outputs": [],
   "source": [
    "df_norm_cust = json_normalize(df['customer'])"
   ]
  },
  {
   "cell_type": "code",
   "execution_count": null,
   "metadata": {},
   "outputs": [],
   "source": [
    "df_norm_orders=pd.DataFrame(columns=['orderAmount','orderState'])\n",
    "\n",
    "total_Amount=[]\n",
    "oState = []\n",
    "for i in range(len(df['orders'])):\n",
    "    for j in range(len(df['orders'][i])):\n",
    "        dfn=json_normalize(df['orders'][i][j])\n",
    "        \n",
    "        total_Amount.append(dfn['orderAmount'][0])\n",
    "        oState+=[dfn['orderState'][0]]\n",
    "    \n",
    "    df_norm_orders=df_norm_orders.append({'orderAmount': total_Amount,'orderState': oState}, ignore_index=True)\n",
    "    total_Amount=[]\n",
    "    oState=[]\n",
    "    \n",
    "df_norm_orders.head(3)"
   ]
  },
  {
   "cell_type": "code",
   "execution_count": null,
   "metadata": {},
   "outputs": [],
   "source": [
    "df_norm_payments=pd.DataFrame(columns=['paymentMethodRegistrationFailure'])\n",
    "\n",
    "pmtRegFailure=[]\n",
    "for i in range(len(df['paymentMethods'])):\n",
    "    for j in range(len(df['paymentMethods'][i])):\n",
    "        dfn=json_normalize(df['paymentMethods'][i][j])\n",
    "        pmtRegFailure+=[dfn['paymentMethodRegistrationFailure'][0]]\n",
    "    df_norm_payments=df_norm_payments.append({'paymentMethodRegistrationFailure': pmtRegFailure}, ignore_index=True)\n",
    "    pmtRegFailure=[]\n",
    "df_norm_payments.head(3)"
   ]
  },
  {
   "cell_type": "code",
   "execution_count": null,
   "metadata": {},
   "outputs": [],
   "source": [
    "df_norm_trans=pd.DataFrame(columns=['orderId','transactionFailed'])\n",
    "\n",
    "oid=[]\n",
    "transFailed=[]\n",
    "for i in range(len(df['transactions'])):\n",
    "    for j in range(len(df['transactions'][i])):\n",
    "        dfn=json_normalize(df['transactions'][i][j])\n",
    "        oid+=[dfn['orderId'][0]]\n",
    "        transFailed+=[dfn['transactionFailed'][0]]\n",
    "    df_norm_trans=df_norm_trans.append({'orderId': oid,'transactionFailed': transFailed}, ignore_index=True)\n",
    "    oid=[]\n",
    "    transFailed=[]\n",
    "df_norm_trans.head(5)"
   ]
  },
  {
   "cell_type": "code",
   "execution_count": null,
   "metadata": {},
   "outputs": [],
   "source": [
    "df_clean=df.drop(['customer','orders','paymentMethods','transactions'], axis=1)\n",
    "df_norm_cust=df_norm_cust.drop(['customerBillingAddress','customerDevice','customerIPAddress','customerPhone'], axis=1)\n",
    "df_clean.head(3)"
   ]
  },
  {
   "cell_type": "code",
   "execution_count": null,
   "metadata": {},
   "outputs": [],
   "source": [
    "df_tidy= pd.concat([df_norm_cust,df_norm_trans,df_norm_payments,df_clean], sort=False,axis=1)"
   ]
  },
  {
   "cell_type": "code",
   "execution_count": null,
   "metadata": {},
   "outputs": [],
   "source": [
    "for index,item in df_tidy['orderId'].iteritems():\n",
    "    if item == []:\n",
    "        df_tidy = df_tidy.drop(index)\n",
    "        \n",
    "\n",
    "df_tidy.shape"
   ]
  },
  {
   "cell_type": "code",
   "execution_count": null,
   "metadata": {},
   "outputs": [],
   "source": []
  }
 ],
 "metadata": {
  "kernelspec": {
   "display_name": "Python 3",
   "language": "python",
   "name": "python3"
  },
  "language_info": {
   "codemirror_mode": {
    "name": "ipython",
    "version": 3
   },
   "file_extension": ".py",
   "mimetype": "text/x-python",
   "name": "python",
   "nbconvert_exporter": "python",
   "pygments_lexer": "ipython3",
   "version": "3.7.3"
  }
 },
 "nbformat": 4,
 "nbformat_minor": 2
}
