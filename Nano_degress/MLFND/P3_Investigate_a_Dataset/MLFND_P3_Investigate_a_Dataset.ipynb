{
 "cells": [
  {
   "cell_type": "markdown",
   "metadata": {},
   "source": [
    "<h1> <p style = \"text-align:center\">Machine Learning Foundation Nanodegree </p> </h1> <hr style = \"border-width: 5px\"/>\n",
    "<h2> <p style = \"text-align:center\"><u>Project 3 - Investigate a Dataset</u></p> </h2>\n",
    "<h3> <p style = \"text-align:center\">Author: Vishwajit Bhadrashetty</p> </h3>\n",
    "<h3> <b> Abstract</b> </h3>\n",
    "We will be investigating and analyzing the Titanic dataset provided by the <a style = \"text-decoration: none\" href = \"https://www.kaggle.com/c/titanic/data\" >Kaggle</a> website. All data resides in  <i>titanic-data.csv</i>. We will use the standard procedure of data analysis while investigating the data. As per the data analysis process five phases are utilized in investigating the data:\n",
    "<ol> \n",
    "<li>Questioning. </li>\n",
    "<li>Data Wrangling. </li>\n",
    "<li>Exploration. </li>\n",
    "<li>Conclusion. </li>\n",
    "<li>Communication. (<b>Implicit within <b>Revivsiting the Questions, Exploration</b> and <b>Conclusion</b> phase.</b>)</li>\n",
    "</ol>\n",
    "\n",
    "The five steps are not linear but revisited when required in order to refine the analysis process.We will use Python language to process the data. Almost all of the source code is <b>PEP-8</b> compliant.\n",
    "<hr style = \"border-width: 5px\"/>"
   ]
  },
  {
   "cell_type": "markdown",
   "metadata": {},
   "source": [
    "<h3> Import all the required modules and set up the plot style </h3>"
   ]
  },
  {
   "cell_type": "code",
   "execution_count": 1,
   "metadata": {
    "collapsed": false
   },
   "outputs": [],
   "source": [
    "# These modules are required in order to use built-in arrays,\n",
    "# series and DataFrame data structures.\n",
    "import numpy as np\n",
    "import pandas as pd\n",
    "import scipy\n",
    "\n",
    "# Following imports help us in showing different types of plots.\n",
    "import matplotlib.pyplot as plt\n",
    "import seaborn as sns\n",
    "sns.set(style=\"whitegrid\", color_codes=True)\n",
    "\n",
    "# Thid method is used to display float values\n",
    "# to a precision of two decimal places.\n",
    "def float_formatter(x):\n",
    "    return \"%.2f\" % x\n"
   ]
  },
  {
   "cell_type": "markdown",
   "metadata": {},
   "source": [
    "<hr style = \"border-width: 5px\"/>\n",
    "### Read and display sample statistics of titanic data"
   ]
  },
  {
   "cell_type": "code",
   "execution_count": 13,
   "metadata": {
    "collapsed": false
   },
   "outputs": [
    {
     "data": {
      "text/html": [
       "<div>\n",
       "<style>\n",
       "    .dataframe thead tr:only-child th {\n",
       "        text-align: right;\n",
       "    }\n",
       "\n",
       "    .dataframe thead th {\n",
       "        text-align: left;\n",
       "    }\n",
       "\n",
       "    .dataframe tbody tr th {\n",
       "        vertical-align: top;\n",
       "    }\n",
       "</style>\n",
       "<table border=\"1\" class=\"dataframe\">\n",
       "  <thead>\n",
       "    <tr style=\"text-align: right;\">\n",
       "      <th></th>\n",
       "      <th>PassengerId</th>\n",
       "      <th>Survived</th>\n",
       "      <th>Pclass</th>\n",
       "      <th>Age</th>\n",
       "      <th>SibSp</th>\n",
       "      <th>Parch</th>\n",
       "      <th>Fare</th>\n",
       "    </tr>\n",
       "  </thead>\n",
       "  <tbody>\n",
       "    <tr>\n",
       "      <th>count</th>\n",
       "      <td>891.000000</td>\n",
       "      <td>891.000000</td>\n",
       "      <td>891.000000</td>\n",
       "      <td>714.000000</td>\n",
       "      <td>891.000000</td>\n",
       "      <td>891.000000</td>\n",
       "      <td>891.000000</td>\n",
       "    </tr>\n",
       "    <tr>\n",
       "      <th>mean</th>\n",
       "      <td>446.000000</td>\n",
       "      <td>0.383838</td>\n",
       "      <td>2.308642</td>\n",
       "      <td>29.699118</td>\n",
       "      <td>0.523008</td>\n",
       "      <td>0.381594</td>\n",
       "      <td>32.204208</td>\n",
       "    </tr>\n",
       "    <tr>\n",
       "      <th>std</th>\n",
       "      <td>257.353842</td>\n",
       "      <td>0.486592</td>\n",
       "      <td>0.836071</td>\n",
       "      <td>14.526497</td>\n",
       "      <td>1.102743</td>\n",
       "      <td>0.806057</td>\n",
       "      <td>49.693429</td>\n",
       "    </tr>\n",
       "    <tr>\n",
       "      <th>min</th>\n",
       "      <td>1.000000</td>\n",
       "      <td>0.000000</td>\n",
       "      <td>1.000000</td>\n",
       "      <td>0.420000</td>\n",
       "      <td>0.000000</td>\n",
       "      <td>0.000000</td>\n",
       "      <td>0.000000</td>\n",
       "    </tr>\n",
       "    <tr>\n",
       "      <th>25%</th>\n",
       "      <td>223.500000</td>\n",
       "      <td>0.000000</td>\n",
       "      <td>2.000000</td>\n",
       "      <td>20.125000</td>\n",
       "      <td>0.000000</td>\n",
       "      <td>0.000000</td>\n",
       "      <td>7.910400</td>\n",
       "    </tr>\n",
       "    <tr>\n",
       "      <th>50%</th>\n",
       "      <td>446.000000</td>\n",
       "      <td>0.000000</td>\n",
       "      <td>3.000000</td>\n",
       "      <td>28.000000</td>\n",
       "      <td>0.000000</td>\n",
       "      <td>0.000000</td>\n",
       "      <td>14.454200</td>\n",
       "    </tr>\n",
       "    <tr>\n",
       "      <th>75%</th>\n",
       "      <td>668.500000</td>\n",
       "      <td>1.000000</td>\n",
       "      <td>3.000000</td>\n",
       "      <td>38.000000</td>\n",
       "      <td>1.000000</td>\n",
       "      <td>0.000000</td>\n",
       "      <td>31.000000</td>\n",
       "    </tr>\n",
       "    <tr>\n",
       "      <th>max</th>\n",
       "      <td>891.000000</td>\n",
       "      <td>1.000000</td>\n",
       "      <td>3.000000</td>\n",
       "      <td>80.000000</td>\n",
       "      <td>8.000000</td>\n",
       "      <td>6.000000</td>\n",
       "      <td>512.329200</td>\n",
       "    </tr>\n",
       "  </tbody>\n",
       "</table>\n",
       "</div>"
      ],
      "text/plain": [
       "       PassengerId    Survived      Pclass         Age       SibSp  \\\n",
       "count   891.000000  891.000000  891.000000  714.000000  891.000000   \n",
       "mean    446.000000    0.383838    2.308642   29.699118    0.523008   \n",
       "std     257.353842    0.486592    0.836071   14.526497    1.102743   \n",
       "min       1.000000    0.000000    1.000000    0.420000    0.000000   \n",
       "25%     223.500000    0.000000    2.000000   20.125000    0.000000   \n",
       "50%     446.000000    0.000000    3.000000   28.000000    0.000000   \n",
       "75%     668.500000    1.000000    3.000000   38.000000    1.000000   \n",
       "max     891.000000    1.000000    3.000000   80.000000    8.000000   \n",
       "\n",
       "            Parch        Fare  \n",
       "count  891.000000  891.000000  \n",
       "mean     0.381594   32.204208  \n",
       "std      0.806057   49.693429  \n",
       "min      0.000000    0.000000  \n",
       "25%      0.000000    7.910400  \n",
       "50%      0.000000   14.454200  \n",
       "75%      0.000000   31.000000  \n",
       "max      6.000000  512.329200  "
      ]
     },
     "execution_count": 13,
     "metadata": {},
     "output_type": "execute_result"
    }
   ],
   "source": [
    "titanic_df = pd.read_csv('titanic-data.csv')\n",
    "\n",
    "# Display first 10 passengers aboard Titanic ship.\n",
    "titanic_df.describe()\n"
   ]
  },
  {
   "cell_type": "markdown",
   "metadata": {},
   "source": [
    "## Summary statistics\n",
    "From the previous table we can conclude the following:\n",
    "<ol>\n",
    "<li>Total number of passengers aboard the Titanic was 891 according to the sample data.</li>\n",
    "<li>The passenger with maximum age was 80.</li>\n",
    "<li>Maximum ticket fare paid was 512.33</li>\n",
    "</ol>\n",
    "<hr style = \"border-width: 5px\"/>"
   ]
  },
  {
   "cell_type": "markdown",
   "metadata": {
    "collapsed": true
   },
   "source": [
    "## 1. Questions\n",
    "\n",
    "After looking at the sample data, some questions that seem relevant to our investigation are:\n",
    "<ol>\n",
    "<li style = \"color: #f50\">How many passengers out of the total embarked survived the crash? (Rest of the questions are closely related to this one simple question. )</li>\n",
    "<li style = \"color: #a00\">Is there a relationship between survival rate and gender? Survival ratio of that of male and female passengers.</li>\n",
    "<li style = \"color: #f50\">How does the survival vary according to age groups?</li>\n",
    "<li style = \"color: #a00\">What impact if at all does a passenger class has on survival rate?</li>\n",
    "<li style = \"color: #f50\">Is there a co-relation between survival rate and other variables? (Variable examples: gender, siblings/spouses aboard the ship, passenger class.)</li>\n",
    "</ol>\n",
    "\n",
    "In order to make sure we have valid data, lets check the <b>veracity</b> of the data. In order to do that we will use count() method from DataFrame. If any cleaning is needed, first we will address the data wrangling phase then revisit the questioning phase."
   ]
  },
  {
   "cell_type": "code",
   "execution_count": 14,
   "metadata": {
    "collapsed": false
   },
   "outputs": [
    {
     "data": {
      "text/plain": [
       "PassengerId    891\n",
       "Survived       891\n",
       "Pclass         891\n",
       "Name           891\n",
       "Sex            891\n",
       "Age            714\n",
       "SibSp          891\n",
       "Parch          891\n",
       "Ticket         891\n",
       "Fare           891\n",
       "Cabin          204\n",
       "Embarked       889\n",
       "dtype: int64"
      ]
     },
     "execution_count": 14,
     "metadata": {},
     "output_type": "execute_result"
    }
   ],
   "source": [
    "titanic_df.count()\n"
   ]
  },
  {
   "cell_type": "markdown",
   "metadata": {},
   "source": [
    "<hr style = \"border-width: 5px\"/>\n",
    "## 2. Data Wrangling (Phase 1)\n",
    "From the previous step we know there are gaps in Age, Cabin and Embarked columns. Since lot of Cabin values are missing, we are not using Cabin values anywhere in our analysis phase. So we will not worry about gaps in Cabin values. Also we will not worry about the relationship between port of embarkation and survival rate in this investigation.\n",
    "\n",
    "Hence we only have to deal with the gaps that exist in <b>Age</b> column. Missing age values can be filled in several ways. We will impute the missing ages by averaging the age based on <i>passenger class and gender</i>.\n"
   ]
  },
  {
   "cell_type": "code",
   "execution_count": 15,
   "metadata": {
    "collapsed": false
   },
   "outputs": [
    {
     "name": "stdout",
     "output_type": "stream",
     "text": [
      "Series([], Name: Age, dtype: float64)\n"
     ]
    },
    {
     "data": {
      "text/plain": [
       "PassengerId    891\n",
       "Survived       891\n",
       "Pclass         891\n",
       "Name           891\n",
       "Sex            891\n",
       "Age            891\n",
       "SibSp          891\n",
       "Parch          891\n",
       "Ticket         891\n",
       "Fare           891\n",
       "Cabin          204\n",
       "Embarked       889\n",
       "dtype: int64"
      ]
     },
     "execution_count": 15,
     "metadata": {},
     "output_type": "execute_result"
    }
   ],
   "source": [
    "# Imputation code taken from Kaggle websites to fill\n",
    "# missing data in Age column.\n",
    "tdf = titanic_df.groupby(['Pclass', 'Sex'])\n",
    "titanic_df['Age'].fillna(tdf['Age'].transform(\"mean\"), inplace=True)\n",
    "print(titanic_df['Age'][titanic_df['Age'].isnull()])\n",
    "titanic_df.count()\n"
   ]
  },
  {
   "cell_type": "markdown",
   "metadata": {},
   "source": [
    "## Data Wrangaling (Phase 2)\n",
    "In this phase we will get rid of columns which we will not be using in our analysis process. The columns are namely <b>Name, Ticket, Cabin and Embarked</b>. <i style = \"color:#a00\">Though Embarked can be used in our analysis, we are not going to investigate it. But one can use it if they want to.</i>"
   ]
  },
  {
   "cell_type": "code",
   "execution_count": 16,
   "metadata": {
    "collapsed": false
   },
   "outputs": [
    {
     "data": {
      "text/plain": [
       "PassengerId    891\n",
       "Survived       891\n",
       "Pclass         891\n",
       "Sex            891\n",
       "Age            891\n",
       "SibSp          891\n",
       "Parch          891\n",
       "Fare           891\n",
       "dtype: int64"
      ]
     },
     "execution_count": 16,
     "metadata": {},
     "output_type": "execute_result"
    }
   ],
   "source": [
    "# dropping columns Name, Ticket, Cabin and Embarked.\n",
    "titanic_df = titanic_df.drop(['Name', 'Ticket', 'Cabin', 'Embarked'], axis=1)\n",
    "titanic_df.count()\n"
   ]
  },
  {
   "cell_type": "markdown",
   "metadata": {
    "collapsed": true
   },
   "source": [
    "<hr style = \"border-width: 5px\"/>\n",
    "## Revisiting the Questions\n",
    "This part answers some of the questions posed in <b>1.Questions</b>.\n",
    "<p style = \"color: #a00\">1. How many passengers out of the total embarked survived the crash?</p>"
   ]
  },
  {
   "cell_type": "code",
   "execution_count": 17,
   "metadata": {
    "collapsed": false
   },
   "outputs": [
    {
     "name": "stdout",
     "output_type": "stream",
     "text": [
      "Number of passengers who survived:  342\n"
     ]
    }
   ],
   "source": [
    "total_survivors = titanic_df['Survived'].sum()\n",
    "print('Number of passengers who survived: ', total_survivors)\n"
   ]
  },
  {
   "cell_type": "markdown",
   "metadata": {},
   "source": [
    "<p style = \"color: #a00\">2. Is there a relationship between survival rate and gender? Survival ratio of that of male and female passengers.</p>"
   ]
  },
  {
   "cell_type": "markdown",
   "metadata": {},
   "source": [
    "## Total number of male and female passengers.\n"
   ]
  },
  {
   "cell_type": "code",
   "execution_count": 18,
   "metadata": {
    "collapsed": false
   },
   "outputs": [
    {
     "name": "stdout",
     "output_type": "stream",
     "text": [
      "Total number of male passengers:  577\n",
      "\n",
      "Summary statistics for male passengers:\n",
      "        PassengerId    Survived      Pclass         Age       SibSp  \\\n",
      "count   577.000000  577.000000  577.000000  577.000000  577.000000   \n",
      "mean    454.147314    0.188908    2.389948   30.423672    0.429809   \n",
      "std     257.486139    0.391775    0.813580   13.264336    1.061811   \n",
      "min       1.000000    0.000000    1.000000    0.420000    0.000000   \n",
      "25%     222.000000    0.000000    2.000000   23.000000    0.000000   \n",
      "50%     464.000000    0.000000    3.000000   27.000000    0.000000   \n",
      "75%     680.000000    0.000000    3.000000   37.000000    0.000000   \n",
      "max     891.000000    1.000000    3.000000   80.000000    8.000000   \n",
      "\n",
      "            Parch        Fare  \n",
      "count  577.000000  577.000000  \n",
      "mean     0.235702   25.523893  \n",
      "std      0.612294   43.138263  \n",
      "min      0.000000    0.000000  \n",
      "25%      0.000000    7.895800  \n",
      "50%      0.000000   10.500000  \n",
      "75%      0.000000   26.550000  \n",
      "max      5.000000  512.329200  \n",
      "\n",
      "Total number of female passengers:  314\n",
      "\n",
      "Summary statistics for female passengers:\n",
      "        PassengerId    Survived      Pclass         Age       SibSp  \\\n",
      "count   314.000000  314.000000  314.000000  314.000000  314.000000   \n",
      "mean    431.028662    0.742038    2.159236   27.288063    0.694268   \n",
      "std     256.846324    0.438211    0.857290   13.091327    1.156520   \n",
      "min       2.000000    0.000000    1.000000    0.750000    0.000000   \n",
      "25%     231.750000    0.000000    1.000000   21.000000    0.000000   \n",
      "50%     414.500000    1.000000    2.000000   24.000000    0.000000   \n",
      "75%     641.250000    1.000000    3.000000   35.000000    1.000000   \n",
      "max     889.000000    1.000000    3.000000   63.000000    8.000000   \n",
      "\n",
      "            Parch        Fare  \n",
      "count  314.000000  314.000000  \n",
      "mean     0.649682   44.479818  \n",
      "std      1.022846   57.997698  \n",
      "min      0.000000    6.750000  \n",
      "25%      0.000000   12.071875  \n",
      "50%      0.000000   23.000000  \n",
      "75%      1.000000   55.000000  \n",
      "max      6.000000  512.329200  \n"
     ]
    }
   ],
   "source": [
    "total_male_passengers = titanic_df[titanic_df['Sex'] == 'male']\n",
    "total_female_passengers = titanic_df[titanic_df['Sex'] == 'female']\n",
    "print('Total number of male passengers: ', len(total_male_passengers))\n",
    "print('\\nSummary statistics for male passengers:\\n',\n",
    "      total_male_passengers.describe())\n",
    "print('\\nTotal number of female passengers: ', len(total_female_passengers))\n",
    "print('\\nSummary statistics for female passengers:\\n',\n",
    "      total_female_passengers.describe())\n"
   ]
  },
  {
   "cell_type": "markdown",
   "metadata": {},
   "source": [
    "### Generic Method to plot data"
   ]
  },
  {
   "cell_type": "code",
   "execution_count": 19,
   "metadata": {
    "collapsed": true
   },
   "outputs": [],
   "source": [
    "def plotbar(data1, data2, title, c1, c2, n, l1, l2):\n",
    "    n_groups = 1\n",
    "    means_men = (data1)\n",
    "    means_women = (data2)\n",
    "\n",
    "    index = np.arange(n_groups)\n",
    "    bar_width = 0.15\n",
    "\n",
    "    opacity = 0.7\n",
    "    error_config = {'ecolor': '0.3'}\n",
    "\n",
    "    rects1 = plt.bar(index, means_men, bar_width,\n",
    "                     alpha=opacity,\n",
    "                     color=c1,\n",
    "                     yerr=0,\n",
    "                     error_kw=error_config,\n",
    "                     label=l1)\n",
    "\n",
    "    rects2 = plt.bar(index + 0.5 + bar_width, means_women, bar_width,\n",
    "                     alpha=opacity,\n",
    "                     color=c2,\n",
    "                     yerr=0,\n",
    "                     error_kw=error_config,\n",
    "                     label=l2)\n",
    "\n",
    "    plt.xlabel('')\n",
    "    plt.ylabel('Percentages')\n",
    "    plt.title(title)\n",
    "    plt.xticks(index + bar_width, (''))\n",
    "    plt.legend()\n",
    "    plt.yticks(n)\n",
    "    plt.legend(loc='upper left')\n",
    "    plt.tight_layout()\n",
    "    plt.show()\n"
   ]
  },
  {
   "cell_type": "code",
   "execution_count": 20,
   "metadata": {
    "collapsed": false
   },
   "outputs": [
    {
     "name": "stdout",
     "output_type": "stream",
     "text": [
      "Sex     Survived\n",
      "female  False        81\n",
      "        True        233\n",
      "male    False       468\n",
      "        True        109\n",
      "dtype: int64\n"
     ]
    }
   ],
   "source": [
    "'''\n",
    "This method maps 0's and 1's in the Survived\n",
    "column to False and True respectively.\n",
    "'''\n",
    "\n",
    "\n",
    "def convert_survived(data):\n",
    "    data_values = {1: True, 0: False}\n",
    "    data['Survived'] = data['Survived'].map(data_values)\n",
    "    return data\n",
    "titanic_df = convert_survived(titanic_df)\n",
    "survival_male_female = titanic_df.groupby(['Sex', 'Survived'])\n",
    "print(survival_male_female.size())\n"
   ]
  },
  {
   "cell_type": "markdown",
   "metadata": {},
   "source": [
    "### Helper method to count total passengers based on certain criteria"
   ]
  },
  {
   "cell_type": "code",
   "execution_count": 21,
   "metadata": {
    "collapsed": true
   },
   "outputs": [],
   "source": [
    "'''\n",
    "Filters passengers based on provided parameters.\n",
    "Returns a dataframe representing the filtered\n",
    "passenger data.\n",
    "'''\n",
    "\n",
    "\n",
    "def filter_passengers(key1, key2, key1_value, key2_value):\n",
    "    return titanic_df[(titanic_df[key1] == key1_value) &\n",
    "                      (titanic_df[key2] == key2_value)]\n"
   ]
  },
  {
   "cell_type": "markdown",
   "metadata": {},
   "source": [
    "## Male vs Female survival rate plot"
   ]
  },
  {
   "cell_type": "code",
   "execution_count": 22,
   "metadata": {
    "collapsed": false
   },
   "outputs": [
    {
     "data": {
      "image/png": "[encoded data removed]",
      "text/plain": [
       "<matplotlib.figure.Figure at 0x116721b70>"
      ]
     },
     "metadata": {},
     "output_type": "display_data"
    }
   ],
   "source": [
    "sns.pointplot(x='Sex', y='Survived', data=titanic_df)\n",
    "plt.ylabel('Survival Rate')\n",
    "plt.title('Male vs Femal survival rate')\n",
    "plt.show()\n"
   ]
  },
  {
   "cell_type": "markdown",
   "metadata": {},
   "source": [
    "#### The previous plot clearly implies that female passenger survival rate is higher than male passengers."
   ]
  },
  {
   "cell_type": "markdown",
   "metadata": {},
   "source": [
    "### Calculating percent of survival for each gender."
   ]
  },
  {
   "cell_type": "code",
   "execution_count": 23,
   "metadata": {
    "collapsed": false
   },
   "outputs": [
    {
     "name": "stdout",
     "output_type": "stream",
     "text": [
      "Percentage of males who survived:  18.89\n",
      "Percentage of males who did NOT survive:  81.11\n",
      "\n",
      "Summary statistics of men who survived\n",
      "\n",
      "        PassengerId      Pclass         Age       SibSp       Parch        Fare\n",
      "count   109.000000  109.000000  109.000000  109.000000  109.000000  109.000000\n",
      "mean    475.724771    2.018349   27.918593    0.385321    0.357798   40.821484\n",
      "std     244.717482    0.922774   15.523773    0.636952    0.645826   71.355967\n",
      "min      18.000000    1.000000    0.420000    0.000000    0.000000    0.000000\n",
      "25%     272.000000    1.000000   20.000000    0.000000    0.000000    9.500000\n",
      "50%     508.000000    2.000000   27.000000    0.000000    0.000000   26.287500\n",
      "75%     680.000000    3.000000   36.000000    1.000000    1.000000   39.000000\n",
      "max     890.000000    3.000000   80.000000    4.000000    2.000000  512.329200\n",
      "\n",
      "Percentage of females who survived:  74.20\n",
      "Percentage of females who did NOT survive:  25.80\n",
      "\n",
      "Summary statistics of women who survived\n",
      "\n",
      "        PassengerId      Pclass         Age       SibSp       Parch        Fare\n",
      "count   233.000000  233.000000  233.000000  233.000000  233.000000  233.000000\n",
      "mean    429.699571    1.918455   28.307733    0.515021    0.515021   51.938573\n",
      "std     255.048296    0.834211   13.273216    0.737533    0.820527   64.102256\n",
      "min       2.000000    1.000000    0.750000    0.000000    0.000000    7.225000\n",
      "25%     238.000000    1.000000   21.750000    0.000000    0.000000   13.000000\n",
      "50%     400.000000    2.000000   27.000000    0.000000    0.000000   26.000000\n",
      "75%     636.000000    3.000000   35.000000    1.000000    1.000000   76.291700\n",
      "max     888.000000    3.000000   63.000000    4.000000    5.000000  512.329200\n"
     ]
    }
   ],
   "source": [
    "men_who_survived = filter_passengers('Survived', 'Sex', True, \"male\")\n",
    "women_who_survived = filter_passengers('Survived', 'Sex', True, \"female\")\n",
    "\n",
    "survival_percentage_male = len(men_who_survived) / \\\n",
    "                          (len(total_male_passengers)*1.0)*100\n",
    "not_survived_percentage_male = 100 - survival_percentage_male\n",
    "\n",
    "survival_percentage_female = len(women_who_survived) / \\\n",
    "                            (len(total_female_passengers)*1.0)*100\n",
    "not_survived_percentage_female = 100 - survival_percentage_female\n",
    "\n",
    "print('Percentage of males who survived: ',\n",
    "      float_formatter(survival_percentage_male))\n",
    "print('Percentage of males who did NOT survive: ',\n",
    "      float_formatter(not_survived_percentage_male))\n",
    "print('\\nSummary statistics of men who survived\\n\\n',\n",
    "      men_who_survived.describe())\n",
    "print('\\nPercentage of females who survived: ',\n",
    "      float_formatter(survival_percentage_female))\n",
    "print('Percentage of females who did NOT survive: ',\n",
    "      float_formatter(not_survived_percentage_female))\n",
    "print('\\nSummary statistics of women who survived\\n\\n',\n",
    "      women_who_survived.describe())\n"
   ]
  },
  {
   "cell_type": "markdown",
   "metadata": {},
   "source": [
    "### Bar graph showing percentage of male and female survivors"
   ]
  },
  {
   "cell_type": "code",
   "execution_count": 24,
   "metadata": {
    "collapsed": false
   },
   "outputs": [
    {
     "data": {
      "image/png": "[encoded data removed]",
      "text/plain": [
       "<matplotlib.figure.Figure at 0x116688828>"
      ]
     },
     "metadata": {},
     "output_type": "display_data"
    }
   ],
   "source": [
    "plotbar(survival_percentage_male, survival_percentage_female,\n",
    "        'Percentage of survival, Male vs Female',\n",
    "        'y', 'b', np.arange(0, 120, 10), 'Men', 'Women')\n"
   ]
  },
  {
   "cell_type": "markdown",
   "metadata": {},
   "source": [
    "<b>Inference:</b> We can confirm that female survival percentage is much higher than male survivors. Overall out of 891 passengers 577 were males. 109 males survived, whereas 468 did not make it. Similarly 233 of total 314 female passengers surived. <br /><b>Summary statistics of relationship between gender and survival:</b>\n",
    "<ol>\n",
    "<li>Total number of men who survived = 109</li>\n",
    "<li>Percentage of men who survived = 18.89%</li>\n",
    "<li>Total number of women who survived = 233</li>\n",
    "<li>Percentage of women who survived = 74.20</li>\n",
    "<li>Average age of men = 30.42</li>\n",
    "<li>Average age of men who survived = 27.92</li>\n",
    "<li>Average age of women = 27.29</li>\n",
    "<li>Average age of men who survived = 28.31</li>\n",
    "</ol>\n"
   ]
  },
  {
   "cell_type": "markdown",
   "metadata": {},
   "source": [
    "<p style = \"color: #a00\">4. What impact if at all does a passenger class has on survival rate?</p>"
   ]
  },
  {
   "cell_type": "code",
   "execution_count": 25,
   "metadata": {
    "collapsed": false
   },
   "outputs": [
    {
     "name": "stdout",
     "output_type": "stream",
     "text": [
      "Upper class passenger info:\n",
      "\tTotal: 216\n",
      "\tSurvived: 136\n",
      "\tSurvival percentage: 62.96\n",
      "\n",
      "Summary stats upper class:\n",
      "        PassengerId  Pclass         Age       SibSp       Parch        Fare\n",
      "count   136.000000   136.0  136.000000  136.000000  136.000000  136.000000\n",
      "mean    491.772059     1.0   35.535535    0.492647    0.389706   95.608029\n",
      "std     239.006988     0.0   13.077002    0.632412    0.690387   85.286820\n",
      "min       2.000000     1.0    0.920000    0.000000    0.000000   25.929200\n",
      "25%     307.750000     1.0   26.000000    0.000000    0.000000   50.985450\n",
      "50%     510.500000     1.0   35.000000    0.000000    0.000000   77.958300\n",
      "75%     693.500000     1.0   43.250000    1.000000    1.000000  111.481225\n",
      "max     890.000000     1.0   80.000000    3.000000    2.000000  512.329200\n",
      "\n",
      "Middle class passenger info:\n",
      "\tTotal: 184\n",
      "\tSurvived: 87\n",
      "\tSurvival percentage: 47.28\n",
      "\n",
      "Summary stats middle class:\n",
      "        PassengerId  Pclass        Age      SibSp      Parch       Fare\n",
      "count    87.000000    87.0  87.000000  87.000000  87.000000  87.000000\n",
      "mean    439.080460     2.0  26.077671   0.494253   0.643678  22.055700\n",
      "std     244.211937     0.0  14.512693   0.644720   0.820904  10.853502\n",
      "min      10.000000     2.0   0.670000   0.000000   0.000000  10.500000\n",
      "25%     254.000000     2.0  18.000000   0.000000   0.000000  13.000000\n",
      "50%     441.000000     2.0  28.000000   0.000000   0.000000  21.000000\n",
      "75%     612.500000     2.0  34.000000   1.000000   1.000000  26.250000\n",
      "max     881.000000     2.0  62.000000   3.000000   3.000000  65.000000\n",
      "\n",
      "Lower class passenger info:\n",
      "\tTotal: 491\n",
      "\tSurvived: 119\n",
      "\tSurvival percentage: 24.24\n",
      "\n",
      "Summary stats lower class:\n",
      "        PassengerId  Pclass         Age       SibSp       Parch        Fare\n",
      "count   119.000000   119.0  119.000000  119.000000  119.000000  119.000000\n",
      "mean    394.058824     3.0   21.321330    0.436975    0.420168   13.694887\n",
      "std     264.680245     0.0   10.239272    0.829934    0.807757   10.692993\n",
      "min       3.000000     3.0    0.420000    0.000000    0.000000    0.000000\n",
      "25%     169.500000     3.0   18.000000    0.000000    0.000000    7.775000\n",
      "50%     359.000000     3.0   21.750000    0.000000    0.000000    8.516700\n",
      "75%     633.500000     3.0   26.507589    1.000000    1.000000   15.875000\n",
      "max     876.000000     3.0   63.000000    4.000000    5.000000   56.495800\n"
     ]
    }
   ],
   "source": [
    "survival_pclass = titanic_df.groupby(['Pclass', 'Survived'])\n",
    "\n",
    "total_passengers_upper = titanic_df[titanic_df['Pclass'] == 1]\n",
    "total_passengers_middle = titanic_df[titanic_df['Pclass'] == 2]\n",
    "total_passengers_lower = titanic_df[titanic_df['Pclass'] == 3]\n",
    "\n",
    "survived_passengers_upper = filter_passengers('Survived', 'Pclass', True, 1)\n",
    "passengers_not_survived_upper = (len(total_passengers_upper) -\n",
    "                                 len(survived_passengers_upper))\n",
    "upper_survival_percentage = (len(survived_passengers_upper) /\n",
    "                             len(total_passengers_upper) * 100)\n",
    "\n",
    "survived_passengers_middle = filter_passengers('Survived', 'Pclass', True, 2)\n",
    "passengers_not_survived_middle = (len(total_passengers_middle) -\n",
    "                                  len(survived_passengers_middle))\n",
    "middle_survival_percentage = (len(survived_passengers_middle) /\n",
    "                              len(total_passengers_middle) * 100)\n",
    "\n",
    "survived_passengers_lower = filter_passengers('Survived', 'Pclass', True, 3)\n",
    "passengers_not_survived_lower = (len(total_passengers_lower) -\n",
    "                                 len(survived_passengers_lower))\n",
    "lower_survival_percentage = (len(survived_passengers_lower) /\n",
    "                             len(total_passengers_lower) * 100)\n",
    "\n",
    "print('Upper class passenger info:\\n\\tTotal:', len(total_passengers_upper))\n",
    "print('\\tSurvived:', len(survived_passengers_upper))\n",
    "print('\\tSurvival percentage:', float_formatter(upper_survival_percentage))\n",
    "print('\\nSummary stats upper class:\\n', survived_passengers_upper.describe())\n",
    "\n",
    "print('\\nMiddle class passenger info:\\n\\tTotal:', len(total_passengers_middle))\n",
    "print('\\tSurvived:', len(survived_passengers_middle))\n",
    "print('\\tSurvival percentage:', float_formatter(middle_survival_percentage))\n",
    "print('\\nSummary stats middle class:\\n', survived_passengers_middle.describe())\n",
    "\n",
    "print('\\nLower class passenger info:\\n\\tTotal:', len(total_passengers_lower))\n",
    "print('\\tSurvived:', len(survived_passengers_lower))\n",
    "print('\\tSurvival percentage:', float_formatter(lower_survival_percentage))\n",
    "print('\\nSummary stats lower class:\\n', survived_passengers_lower.describe())\n"
   ]
  },
  {
   "cell_type": "markdown",
   "metadata": {},
   "source": [
    "### Plotting passenger survival graph based on class"
   ]
  },
  {
   "cell_type": "code",
   "execution_count": 26,
   "metadata": {
    "collapsed": false
   },
   "outputs": [
    {
     "data": {
      "image/png": "[encoded data removed]",
      "text/plain": [
       "<matplotlib.figure.Figure at 0x110c3bf28>"
      ]
     },
     "metadata": {},
     "output_type": "display_data"
    }
   ],
   "source": [
    "N = 3\n",
    "survivor_class_means = (len(survived_passengers_upper),\n",
    "                        len(survived_passengers_middle),\n",
    "                        len(survived_passengers_lower))\n",
    "non_survivor_class_means = (passengers_not_survived_upper,\n",
    "                            passengers_not_survived_middle,\n",
    "                            passengers_not_survived_lower)\n",
    "\n",
    "ind = np.arange(N)    # the x locations for the groups\n",
    "width = 0.35       # the width of the bars: can also be len(x) sequence\n",
    "\n",
    "p1 = plt.bar(ind, survivor_class_means, width, color='g')\n",
    "p2 = plt.bar(ind, non_survivor_class_means, width, color='r',\n",
    "             bottom=survivor_class_means)\n",
    "\n",
    "plt.ylabel('Number of Passengers')\n",
    "plt.title('Survival Stats by class')\n",
    "plt.xticks(ind + width/10., ('Upper', 'Middle', 'Lower'))\n",
    "plt.yticks(np.arange(0, 800, 50))\n",
    "plt.legend((p1[0], p2[0]), ('Survived', 'Did not Survive'), loc='upper left')\n",
    "\n",
    "plt.show()\n"
   ]
  },
  {
   "cell_type": "markdown",
   "metadata": {},
   "source": [
    "<b>Inference: </b> Both the numbers and the graph indicate that survival is higher among upper class compared to middle and lower class passengers. Also lower class passengers have the lowest survival percentage.\n",
    "<br /><b>Summary statistics of relationship between gender and survival:</b>\n",
    "<ol>\n",
    "<li>Percent uppper class who survived = 62.96%</li>\n",
    "<li>Upper class average age = 35.54</li>\n",
    "<li>Average ticket fare upper class = 95.61</li>\n",
    "<li>Percent middle class who survived = 47.28%</li>\n",
    "<li>Middle class average age = 26.08</li>\n",
    "<li>Average ticket fare middle class = 22.06</li>\n",
    "<li>Percent lower class who survived = 24.24%</li>\n",
    "<li>Lower class average age = 21.32</li>\n",
    "<li>Average ticket fare lower class = 13.69</li>\n",
    "</ol>\n",
    "<br />Therefore:<br />\n",
    "Percent survival in upper > middle > lower.<br />\n",
    "Average age in upper > middle > lower.<br />\n",
    "Average ticket fare in upper > middle > lower.<br />"
   ]
  },
  {
   "cell_type": "markdown",
   "metadata": {},
   "source": [
    "<h3>Note: Questions 3 and 5 will be answered in different sections.</h3>"
   ]
  },
  {
   "cell_type": "markdown",
   "metadata": {},
   "source": [
    "<hr style = \"border-width: 5px\"/>\n",
    "## 3. Exploration\n",
    "In this phase we will look into how survival varies according to one more variable i.e. age. Then we will further explore survival vs 2D data. That is we will further investigate how survival varies according to:\n",
    "<ol>\n",
    "<li>Gender and Pclass.</li>\n",
    "<li>Age and Gender.</li>\n",
    " <li>Age and Pclass.</li>\n",
    "</ol>\n",
    "<p style = \"color: #f50\">3.How does the survival vary according to age groups?</p><br />\n",
    "In order to investigate age vs survival, we will divide age into three groups, viz:\n",
    "<ol>\n",
    "<li>Children and youth who are are below 30.</li>\n",
    "<li>Middle aged who are above 29 and below 50</li>\n",
    "<li>Senior passengers who are 50 or above</li>\n",
    "</ol>"
   ]
  },
  {
   "cell_type": "code",
   "execution_count": 27,
   "metadata": {
    "collapsed": false
   },
   "outputs": [
    {
     "name": "stdout",
     "output_type": "stream",
     "text": [
      "Total survivors under 30 years:  192\n",
      "\n",
      "Summary stats of pasengers age < 30:\n",
      "        PassengerId      Pclass         Age       SibSp       Parch        Fare\n",
      "count   522.000000  522.000000  522.000000  522.000000  522.000000  522.000000\n",
      "mean    434.603448    2.616858   20.737221    0.666667    0.423372   25.439271\n",
      "std     262.425322    0.669276    7.330890    1.351760    0.750476   38.665912\n",
      "min       1.000000    1.000000    0.420000    0.000000    0.000000    0.000000\n",
      "25%     201.250000    2.000000   18.000000    0.000000    0.000000    7.859400\n",
      "50%     423.500000    3.000000   22.000000    0.000000    0.000000   11.133300\n",
      "75%     658.500000    3.000000   26.507589    1.000000    1.000000   26.000000\n",
      "max     890.000000    3.000000   29.000000    8.000000    4.000000  263.000000\n",
      "\n",
      "Total middle aged survivors:  123\n",
      "\n",
      "Summary stats of middle aged:\n",
      "        PassengerId      Pclass         Age       SibSp       Parch        Fare\n",
      "count   295.000000  295.000000  295.000000  295.000000  295.000000  295.000000\n",
      "mean    466.247458    1.952542   37.424005    0.332203    0.332203   40.622655\n",
      "std     251.460150    0.863736    5.496549    0.539097    0.917413   63.366813\n",
      "min       2.000000    1.000000   30.000000    0.000000    0.000000    0.000000\n",
      "25%     257.500000    1.000000   33.000000    0.000000    0.000000    8.662500\n",
      "50%     472.000000    2.000000   36.000000    0.000000    0.000000   24.150000\n",
      "75%     679.500000    3.000000   41.281386    1.000000    0.000000   50.247900\n",
      "max     891.000000    3.000000   49.000000    3.000000    6.000000  512.329200\n",
      "\n",
      "Total senior survivors:  27\n",
      "\n",
      "Summary stats of seniors:\n",
      "        PassengerId     Pclass        Age      SibSp      Parch        Fare\n",
      "count    74.000000  74.000000  74.000000  74.000000  74.000000   74.000000\n",
      "mean    445.675676   1.554054  57.540541   0.270270   0.283784   46.364415\n",
      "std     242.330133   0.742854   6.767042   0.504698   0.692826   49.480722\n",
      "min       7.000000   1.000000  50.000000   0.000000   0.000000    6.237500\n",
      "25%     250.750000   1.000000  52.000000   0.000000   0.000000   12.643750\n",
      "50%     483.500000   1.000000  56.000000   0.000000   0.000000   27.631250\n",
      "75%     631.750000   2.000000  61.750000   0.000000   0.000000   68.744800\n",
      "max     880.000000   3.000000  80.000000   2.000000   4.000000  263.000000\n",
      "330 172 47\n"
     ]
    },
    {
     "name": "stderr",
     "output_type": "stream",
     "text": [
      "/Users/vishwa/anaconda/lib/python3.6/site-packages/ipykernel/__main__.py:3: UserWarning: Boolean Series key will be reindexed to match DataFrame index.\n",
      "  app.launch_new_instance()\n"
     ]
    }
   ],
   "source": [
    "# Create DataFrame object for each age group for later analysis.\n",
    "children_n_youth = titanic_df[(titanic_df['Age'] < 30)]\n",
    "middle_aged = titanic_df[titanic_df['Age'] >= 30][titanic_df['Age'] < 50]\n",
    "senior_passengers = titanic_df[titanic_df['Age'] >= 50]\n",
    "\n",
    "not_survived_cny = (children_n_youth['Age'].count() -\n",
    "                    children_n_youth.Survived.sum())\n",
    "not_survived_middle = middle_aged['Age'].count() - middle_aged.Survived.sum()\n",
    "not_survived_seniors = (senior_passengers['Age'].count() -\n",
    "                        senior_passengers.Survived.sum())\n",
    "\n",
    "print('Total survivors under 30 years: ', children_n_youth.Survived.sum())\n",
    "print('\\nSummary stats of pasengers age < 30:\\n', children_n_youth.describe())\n",
    "\n",
    "print('\\nTotal middle aged survivors: ', middle_aged.Survived.sum())\n",
    "print('\\nSummary stats of middle aged:\\n', middle_aged.describe())\n",
    "\n",
    "print('\\nTotal senior survivors: ', senior_passengers.Survived.sum())\n",
    "print('\\nSummary stats of seniors:\\n', senior_passengers.describe())\n",
    "print(not_survived_cny, not_survived_middle, not_survived_seniors)\n"
   ]
  },
  {
   "cell_type": "markdown",
   "metadata": {},
   "source": [
    "### Age vs Survival Plot"
   ]
  },
  {
   "cell_type": "code",
   "execution_count": 28,
   "metadata": {
    "collapsed": false
   },
   "outputs": [
    {
     "data": {
      "image/png": "[encoded data removed]",
      "text/plain": [
       "<matplotlib.figure.Figure at 0x11691ac50>"
      ]
     },
     "metadata": {},
     "output_type": "display_data"
    }
   ],
   "source": [
    "N = 3\n",
    "survivor_age_means = (children_n_youth.Survived.sum(),\n",
    "                      middle_aged.Survived.sum(),\n",
    "                      senior_passengers.Survived.sum())\n",
    "non_survivor_age_means = (not_survived_cny,\n",
    "                          not_survived_middle, not_survived_seniors)\n",
    "\n",
    "ind = np.arange(N)    # the x locations for the groups\n",
    "width = 0.35       # the width of the bars: can also be len(x) sequence\n",
    "\n",
    "p1 = plt.bar(ind, survivor_age_means, width, color='b')\n",
    "p2 = plt.bar(ind, non_survivor_age_means, width, color='r',\n",
    "             bottom=survivor_age_means)\n",
    "\n",
    "plt.ylabel('Number of Passengers')\n",
    "plt.title('Survival Stats by age')\n",
    "plt.xticks(ind + width/10., ('children_n_youth', 'middle_aged',\n",
    "                             'senior_passengers'))\n",
    "plt.yticks(np.arange(0, 800, 50))\n",
    "plt.legend((p1[0], p2[0]), ('Survived', 'Did not Survive'), loc='upper left')\n",
    "\n",
    "plt.show()\n"
   ]
  },
  {
   "cell_type": "markdown",
   "metadata": {},
   "source": [
    "<b>Inference:</b> Numbers indicate that children and youth who survived is greater than middle aged passengers and senior passengers. Also number of senior passengers who survived is low. But the plot of <b>age vs survival</b> indicates that total number of children and youth > middle aged > senior passengers. The graph also shows that number of passengers under 30 years who did not survive is far greater than that of middle aged and seniors (The reason being, total number of children and youth aboard the ship is much higher.). <br />\n",
    "\n",
    "<br /><b>General statistics of relationship between gender and survival:</b>\n",
    "<ol>\n",
    "<li>Total number of people under 30 years of age who survived = 192</li>\n",
    "<li>Average age of children and youth = 20.74</li>\n",
    "<li>Total number of middle aged people who survived = 123</li>\n",
    "<li>Average age of middle aged passengers = 37.42</li>\n",
    "<li>Total number of senior people who survived = 27</li>\n",
    "<li>Average age of senior passengers = 57.54</li>\n",
    "</ol>"
   ]
  },
  {
   "cell_type": "markdown",
   "metadata": {},
   "source": [
    "### Exploring survival rate using 2D data."
   ]
  },
  {
   "cell_type": "code",
   "execution_count": 29,
   "metadata": {
    "collapsed": false
   },
   "outputs": [
    {
     "name": "stdout",
     "output_type": "stream",
     "text": [
      "              count unique    top freq\n",
      "Sex    Pclass                         \n",
      "female 1         94      2   True   91\n",
      "       2         76      2   True   70\n",
      "       3        144      2   True   72\n",
      "male   1        122      2  False   77\n",
      "       2        108      2  False   91\n",
      "       3        347      2  False  300\n"
     ]
    }
   ],
   "source": [
    "gender_n_class = titanic_df.groupby(['Sex', 'Pclass'])\n",
    "print(gender_n_class['Survived'].describe())\n"
   ]
  },
  {
   "cell_type": "markdown",
   "metadata": {},
   "source": [
    "<b>Inference: </b> \n",
    "<ol>\n",
    "<li>Survival percent is really high among females in upper and middle clases.</li>\n",
    "<li>Survival percent is exactly 50 in lower class for females</li>\n",
    "<li>Survival percent as compared to females is very low in all three classes for males.</li>\n",
    "<li>Among males of all the three classes, survival percent is high for upper class.</li>\n",
    "</ol>"
   ]
  },
  {
   "cell_type": "markdown",
   "metadata": {},
   "source": [
    "### Investigating relationship between survival rate based on age and gender."
   ]
  },
  {
   "cell_type": "code",
   "execution_count": 32,
   "metadata": {
    "collapsed": false
   },
   "outputs": [
    {
     "name": "stdout",
     "output_type": "stream",
     "text": [
      "Percent male and female who survived and were children & youth: 18.13 & 69.11\n",
      "Percent male and female who survived and were middle aged: 21.65 & 80.20\n",
      "Percent male and female who survived and were serniors: 0.13 & 0.91\n",
      "\n",
      "Mean age of males who survived among children and youth:  17.403971673254283\n",
      "Max age amongst males who survived in children and youth:  29.0\n",
      "Mean age of males who survived among middle aged:  37.80686535320199\n",
      "Max age amongst males who survived among middle aged:  49.0\n",
      "Mean age of males who survived among seniors:  58.714285714285715\n",
      "Max age amongst males who survived among middle aged:  80.0\n",
      "\n",
      "Mean age of females who survived among children and youth:  19.111332923832922\n",
      "Max age amongst females who survived in children and youth:  29.0\n",
      "Mean age of females who survived among middle aged:  36.66673928830791\n",
      "Max age amongst females who survived among middle aged:  49.0\n",
      "Mean age of females who survived among seniors:  55.15\n",
      "Max age amongst females who survived among middle aged:  63.0\n"
     ]
    }
   ],
   "source": [
    "male_children_n_youth = children_n_youth[children_n_youth['Sex'] == 'male']\n",
    "male_middle_aged = middle_aged[middle_aged['Sex'] == 'male']\n",
    "male_seniors = senior_passengers[senior_passengers['Sex'] == 'male']\n",
    "\n",
    "female_children_n_youth = children_n_youth[children_n_youth['Sex'] == 'female']\n",
    "female_middle_aged = middle_aged[middle_aged['Sex'] == 'female']\n",
    "female_seniors = senior_passengers[senior_passengers['Sex'] == 'female']\n",
    "\n",
    "survived_male_cny = male_children_n_youth[male_children_n_youth['Survived'] == True]\n",
    "survived_male_middle_aged = male_middle_aged[male_middle_aged['Survived'] == True]\n",
    "survived_male_seniors = male_seniors[male_seniors['Survived'] == True]\n",
    "\n",
    "survived_female_cny = female_children_n_youth[female_children_n_youth['Survived'] == True]\n",
    "survived_female_middle_aged = female_middle_aged[female_middle_aged['Survived'] == True]\n",
    "survived_female_seniors = female_seniors[female_seniors['Survived'] == True]\n",
    "\n",
    "percent_male_survived_cny = len(survived_male_cny) / len(male_children_n_youth) * 100\n",
    "percent_male_survived_middle = len(survived_male_middle_aged) / len(male_middle_aged) * 100\n",
    "percent_male_survived_seniors = len(survived_male_seniors) / len(male_seniors)\n",
    "\n",
    "percent_female_survived_cny = len(survived_female_cny) / len(female_children_n_youth) * 100\n",
    "percent_female_survived_middle = len(survived_female_middle_aged) / len(female_middle_aged) * 100\n",
    "percent_female_survived_seniors = len(survived_female_seniors) / len(female_seniors)\n",
    "\n",
    "print('Percent male and female who survived and were children & youth:',\n",
    "     float_formatter(percent_male_survived_cny), '&',float_formatter(percent_female_survived_cny))\n",
    "print('Percent male and female who survived and were middle aged:',\n",
    "     float_formatter(percent_male_survived_middle), '&',\n",
    "      float_formatter(percent_female_survived_middle))\n",
    "print('Percent male and female who survived and were serniors:',\n",
    "     float_formatter(percent_male_survived_seniors), '&',\n",
    "      float_formatter(percent_female_survived_seniors))\n",
    "\n",
    "print('\\nMean age of males who survived among children and youth: ',\n",
    "      survived_male_cny['Age'].mean())\n",
    "print('Max age amongst males who survived in children and youth: ',\n",
    "      survived_male_cny['Age'].max())\n",
    "print('Mean age of males who survived among middle aged: ',\n",
    "      survived_male_middle_aged['Age'].mean())\n",
    "print('Max age amongst males who survived among middle aged: ',\n",
    "      survived_male_middle_aged['Age'].max())\n",
    "print('Mean age of males who survived among seniors: ',\n",
    "      survived_male_seniors['Age'].mean())\n",
    "print('Max age amongst males who survived among middle aged: ',\n",
    "      survived_male_seniors['Age'].max())\n",
    "\n",
    "print('\\nMean age of females who survived among children and youth: ',\n",
    "      survived_female_cny['Age'].mean())\n",
    "print('Max age amongst females who survived in children and youth: ',\n",
    "      survived_female_cny['Age'].max())\n",
    "print('Mean age of females who survived among middle aged: ',\n",
    "      survived_female_middle_aged['Age'].mean())\n",
    "print('Max age amongst females who survived among middle aged: ',\n",
    "      survived_female_middle_aged['Age'].max())\n",
    "print('Mean age of females who survived among seniors: ',\n",
    "      survived_female_seniors['Age'].mean())\n",
    "print('Max age amongst females who survived among middle aged: ',\n",
    "      survived_female_seniors['Age'].max())\n"
   ]
  },
  {
   "cell_type": "markdown",
   "metadata": {},
   "source": [
    "### Age and Gender vs Survival percentage"
   ]
  },
  {
   "cell_type": "code",
   "execution_count": 33,
   "metadata": {
    "collapsed": false
   },
   "outputs": [
    {
     "data": {
      "image/png": "[encoded data removed]",
      "text/plain": [
       "<matplotlib.figure.Figure at 0x119dbbf60>"
      ]
     },
     "metadata": {},
     "output_type": "display_data"
    }
   ],
   "source": [
    "N = 3\n",
    "\n",
    "survived_means_men = (percent_male_survived_cny,\n",
    "                      percent_male_survived_middle,\n",
    "                      percent_male_survived_seniors)\n",
    "\n",
    "survived_means_women = (percent_female_survived_cny,\n",
    "                        percent_female_survived_middle,\n",
    "                        percent_female_survived_seniors)\n",
    "\n",
    "\n",
    "fig, ax = plt.subplots()\n",
    "\n",
    "index = np.arange(N)\n",
    "bar_width = 0.25\n",
    "\n",
    "opacity = 0.7\n",
    "error_config = {'ecolor': '0.3'}\n",
    "\n",
    "rects1 = plt.bar(index, survived_means_men, bar_width,\n",
    "                 alpha=opacity,\n",
    "                 color='b',\n",
    "                 yerr=0,\n",
    "                 error_kw=error_config,\n",
    "                 label='Men')\n",
    "\n",
    "rects2 = plt.bar(index + bar_width, survived_means_women, bar_width,\n",
    "                 alpha=opacity,\n",
    "                 color='y',\n",
    "                 yerr=0,\n",
    "                 error_kw=error_config,\n",
    "                 label='Women')\n",
    "\n",
    "plt.xlabel('Age Group')\n",
    "plt.ylabel('Percentages')\n",
    "plt.title('Percentage of men and women who survived')\n",
    "plt.xticks(index + bar_width/2., ('Under 30', 'Middle aged', 'Senior'))\n",
    "plt.legend(loc='upper left')\n",
    "\n",
    "plt.tight_layout()\n",
    "plt.show()\n"
   ]
  },
  {
   "cell_type": "markdown",
   "metadata": {},
   "source": [
    "<b>Inference: </b> Both visualizations and numbers make it conspicous that in all age groups women have higer survival percentage. Also middle aged females have higher survival percentage than their counter parts in the other two age groups. The same also applies for males, meaning survival percentage is high among middle aged men.\n",
    "\n",
    "<b>Some general statistics:</b>\n",
    "<ol>\n",
    "<li>Mean age of males under 30 years is less than that of females.</li>\n",
    "<li>In the under 30 years group max age of male is same as that of female group.</li>\n",
    "<li>Mean age of males in the middle aged group is greater than that of females. (The difference in age is negligible though.)</li>\n",
    "<li>In the middle aged group max age of male is same as that of female group.</li>\n",
    "</ol>\n",
    "\n",
    "Similar stats can be stated about senior pasengers group."
   ]
  },
  {
   "cell_type": "code",
   "execution_count": 34,
   "metadata": {
    "collapsed": true
   },
   "outputs": [],
   "source": [
    "# Helper method to create a histogram of given data.\n",
    "def create_hist(data, title):\n",
    "    plt.hist(data)\n",
    "    plt.xlabel('Age distribution')\n",
    "    plt.ylabel('Frequency')\n",
    "    plt.title(title)\n",
    "    plt.show()\n"
   ]
  },
  {
   "cell_type": "code",
   "execution_count": 35,
   "metadata": {
    "collapsed": false
   },
   "outputs": [
    {
     "data": {
      "image/png": "[encoded data removed]",
      "text/plain": [
       "<matplotlib.figure.Figure at 0x1165b8080>"
      ]
     },
     "metadata": {},
     "output_type": "display_data"
    },
    {
     "data": {
      "image/png": "[encoded data removed]",
      "text/plain": [
       "<matplotlib.figure.Figure at 0x11a219710>"
      ]
     },
     "metadata": {},
     "output_type": "display_data"
    }
   ],
   "source": [
    "total_males = titanic_df[titanic_df['Sex'] == 'male']\n",
    "survived_males = total_males[total_males['Survived'] == True]\n",
    "\n",
    "total_females = titanic_df[titanic_df['Sex'] == 'male']\n",
    "survived_females = total_males[total_males['Survived'] == True]\n",
    "\n",
    "create_hist(survived_males['Age'], 'Age distribution for males who survived')\n",
    "create_hist(survived_females['Age'],\n",
    "            'Age distribution of females who survived')\n"
   ]
  },
  {
   "cell_type": "markdown",
   "metadata": {},
   "source": [
    "<b>Inference:</b> It seems for both males and females the survival chances are high if they are under 30 years of age."
   ]
  },
  {
   "cell_type": "code",
   "execution_count": 36,
   "metadata": {
    "collapsed": false
   },
   "outputs": [
    {
     "data": {
      "image/png": "[encoded data removed]",
      "text/plain": [
       "<matplotlib.figure.Figure at 0x119da1470>"
      ]
     },
     "metadata": {},
     "output_type": "display_data"
    },
    {
     "data": {
      "image/png": "[encoded data removed]",
      "text/plain": [
       "<matplotlib.figure.Figure at 0x110c3b208>"
      ]
     },
     "metadata": {},
     "output_type": "display_data"
    },
    {
     "data": {
      "image/png": "[encoded data removed]",
      "text/plain": [
       "<matplotlib.figure.Figure at 0x11a04d908>"
      ]
     },
     "metadata": {},
     "output_type": "display_data"
    }
   ],
   "source": [
    "upper_class_survived = filter_passengers('Pclass', 'Survived', 1, True)\n",
    "middle_class_survived = filter_passengers('Pclass', 'Survived', 2, True)\n",
    "lower_class_survived = filter_passengers('Pclass', 'Survived', 3, True)\n",
    "\n",
    "create_hist(upper_class_survived['Age'],\n",
    "            'Age distribution of survived passengers for upper class.')\n",
    "create_hist(middle_class_survived['Age'],\n",
    "            'Age distribution of survived passengers for middle class.')\n",
    "create_hist(lower_class_survived['Age'],\n",
    "            'Age distribution of survived passengers for lower class.')\n"
   ]
  },
  {
   "cell_type": "markdown",
   "metadata": {},
   "source": [
    "<b>Inferences made from histograms: </b>\n",
    "<ol>\n",
    "<li>Upper class: Survival chances are really good if passenger's age is > 18 and less than 50. </li>\n",
    "<li> Middle class: If the passenger's age is less than 40 then survival chances are high.</li>\n",
    "<li>In middle class one more interesting thing to observer is, survival is really high for age bin 1 to 6. (just a rough estimation.) </li>\n",
    "<li>Lower class: Survival chances are good for age group 15 to 30.</li>\n",
    "</ol>"
   ]
  },
  {
   "cell_type": "markdown",
   "metadata": {},
   "source": [
    "## Correlation\n",
    "### Pearson's r for pclass and survival"
   ]
  },
  {
   "cell_type": "code",
   "execution_count": 37,
   "metadata": {
    "collapsed": false
   },
   "outputs": [
    {
     "name": "stdout",
     "output_type": "stream",
     "text": [
      "PassengerId   -0.005007\n",
      "Survived       1.000000\n",
      "Pclass        -0.338481\n",
      "Age           -0.067485\n",
      "SibSp         -0.035322\n",
      "Parch          0.081629\n",
      "Fare           0.257307\n",
      "Name: Survived, dtype: float64\n"
     ]
    },
    {
     "data": {
      "text/plain": [
       "(-0.33848103596101536, 2.5370473879804202e-25)"
      ]
     },
     "execution_count": 37,
     "metadata": {},
     "output_type": "execute_result"
    }
   ],
   "source": [
    "corr = titanic_df.corr()\n",
    "print(corr['Survived'])\n",
    "\n",
    "pclass_titanic = titanic_df['Pclass']\n",
    "titanic_survived = titanic_df['Survived']\n",
    "scipy.stats.pearsonr(pclass_titanic.get_values(),\n",
    "                     titanic_survived.get_values())\n"
   ]
  },
  {
   "cell_type": "markdown",
   "metadata": {},
   "source": [
    "\n",
    "<b>r = -0.34</b> (rounded to two decimal places.)<br />\n",
    "Documentation for <a href = \"https://docs.scipy.org/doc/scipy/reference/generated/scipy.stats.pearsonr.html\" style = \"text-decoration: none\">pearson's r</a> states:  Like other correlation coefficients, this one varies between -1 and +1 with 0 implying no correlation. Correlations of -1 or +1 imply an exact linear relationship. Positive correlations imply that as x increases, so does y. Negative correlations imply that as x increases, y decreases.\n",
    "\n",
    "<b>Inference: </b> r is negative for x representing passenger class and y representing survived column. Higher the class number lower is the chance of survival. We should be careful here to note that higher class number means in descending order (3 = lower, 2 = middle and 1 = upper). This result is in agreement with our analysis of relationship between class and survival in <b> Revisiting the Questions</b> section.\n",
    "<hr style = \"border-width: 5px\"/>"
   ]
  },
  {
   "cell_type": "markdown",
   "metadata": {},
   "source": [
    "## 4. Conclusion"
   ]
  },
  {
   "cell_type": "markdown",
   "metadata": {},
   "source": [
    "All statistical concclusions are explained within the <b><i>Inference</i></b> part of each section. <br /><br />\n",
    "<b>Summary:</b>\n",
    "<ul>\n",
    "<li>The entire analysis and exploration was mainly about survival of passengers aboard Titanic ship.</li> \n",
    "<li>There are other things we could have investigated independently such as passenger demographics viz, gender, age and class.</li>\n",
    "<li>But demographics alone is'nt much useful for practical insights into the data.</li> \n",
    "<li>Hence within the analysis process the main factor we were interested was survival of each pasenger.</li> \n",
    "<li>All demographics were related to survival rate and explored from different angles.</li>\n",
    "</ul>\n",
    "\n",
    "<b>Limitations</b> in the data:<br />\n",
    "<ol>\n",
    "<li>The data wrangling phase showed that there were large gaps in data, specially when it came to the age of passengers.</li>\n",
    "<li>Two embarkation ports were missing. </li>\n",
    "</ol><br />\n",
    "Here is how missing data was dealth with:<br />\n",
    "<b>Missing ages: </b>We used imputed values based on passenger class and age.<br />\n",
    "<b>Missing embarkation ports:</b>Although one can try to correlate embarkation port and <br />\n",
    "survival, in our analysis we have not done so for simplicity. That is we have considered <br />\n",
    "variables which were highly correlated to survival.<br />\n",
    "\n",
    "Correlation does not imply causation. But finding out correlation gives us a general idea of how consistent are our analysis results. It seems age, class, ticket fare and gender are highly correlated. As per project rubric only three variables i.e. age, class and gender were considered for the analysis process.\n",
    "\n",
    "There are other limitations on the data such as:\n",
    "<ol>\n",
    "<li>Whether lurking variables were constant or kept consistent. Example availability of life boats.</li>\n",
    "<li>The impact of size of sample data.</li>\n",
    "<li>One more categorization that could have been included in the data was whether person was a crew or passenger.</li>\n",
    "</ol><br />\n",
    "\n",
    "Because of the afore mentioned limitations posed by data, <b>all results and inference are tentative only.</b>\n",
    "<hr style = 'border-width: 5px' />"
   ]
  },
  {
   "cell_type": "markdown",
   "metadata": {
    "collapsed": true
   },
   "source": [
    "## <p style = \"text-align: center\">Refrences</p>\n",
    "<ol>\n",
    "<li>Investigation on <a \n",
    "style = \"text-decoration:none\" href=\"https://www.kaggle.com/sebask/investigating-the-titanic-dataset\">Kaggle</a>. (Code snippet for cleaning data)</li>\n",
    "<li>Github repo by <a style = \"text-decoration:none\"  href=\"https://github.com/aashika/P2-Investigate-a-dataset/blob/master/P2.%20Investigate%20a%20Dataset.ipynb\">aashika</a>. (Code snippets for plotting.)</li>\n",
    "<li><a style = 'text-decoration:none' href=\"https://www.datacamp.com/community/tutorials/matplotlib-tutorial-python#gs.a6bdeYE\">Matplotlib</a> tutorial on plotting.</li>\n",
    "<li>Github repo by <a style = \"text-decoration:none\"  href=\"https://github.com/baocongchen/Investigate-a-Dataset/blob/master/Investigating_a_Dataset.ipynb\">baocongchen. (Code snippet for plotting.)</li>\n",
    "</ol>"
   ]
  }
 ],
 "metadata": {
  "kernelspec": {
   "display_name": "Python [default]",
   "language": "python",
   "name": "python3"
  },
  "language_info": {
   "codemirror_mode": {
    "name": "ipython",
    "version": 3
   },
   "file_extension": ".py",
   "mimetype": "text/x-python",
   "name": "python",
   "nbconvert_exporter": "python",
   "pygments_lexer": "ipython3",
   "version": "3.6.0"
  }
 },
 "nbformat": 4,
 "nbformat_minor": 2
}
